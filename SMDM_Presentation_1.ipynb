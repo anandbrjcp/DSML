{
 "cells": [
  {
   "cell_type": "code",
   "execution_count": null,
   "id": "c9288112-4653-4751-ab4f-ba4f87e5857d",
   "metadata": {},
   "outputs": [],
   "source": [
    "## importing the Modules \n",
    "import pandas as pd\n",
    "import scipy.stats as stats\n",
    "import matplotlib.pyplot as plt\n",
    "import seaborn as sns\n",
    "import numpy as np\n",
    "import tqdm\n",
    "from tqdm import tqdm_notebook\n",
    "\n",
    "import warnings\n",
    "warnings.simplefilter(action='ignore', category=Warning)"
   ]
  },
  {
   "cell_type": "code",
   "execution_count": null,
   "id": "a74b5bac-b590-4f56-89f5-475b0c5712a1",
   "metadata": {},
   "outputs": [],
   "source": [
    "from sklearn import metrics\n",
    "from sklearn.preprocessing import StandardScaler\n",
    "from sklearn.metrics import mean_squared_error, mean_absolute_error, confusion_matrix, r2_score, accuracy_score\n",
    "from sklearn.model_selection import (GridSearchCV, KFold, train_test_split, cross_val_score)\n",
    "\n",
    "from imblearn.over_sampling import SMOTE\n",
    "from collections import Counter\n",
    "\n",
    "from sklearn.linear_model import LogisticRegression\n",
    "from sklearn.naive_bayes import GaussianNB\n",
    "from sklearn.ensemble import RandomForestClassifier, ExtraTreesClassifier\n",
    "from sklearn import svm\n",
    "\n",
    "from sklearn.tree import DecisionTreeClassifier\n",
    "from catboost import CatBoostClassifier"
   ]
  },
  {
   "cell_type": "code",
   "execution_count": null,
   "id": "f31736f6-b9bb-42b0-b666-df96b8d3abf9",
   "metadata": {},
   "outputs": [],
   "source": [
    "wd = pd.read_csv(\"water_potability.csv\")\n",
    "\n",
    "wd.head()"
   ]
  },
  {
   "cell_type": "code",
   "execution_count": null,
   "id": "2a14c960-48f8-40ff-8c36-9212c587736e",
   "metadata": {},
   "outputs": [],
   "source": [
    "wd.isnull().sum()"
   ]
  },
  {
   "cell_type": "code",
   "execution_count": null,
   "id": "a10a653b-566f-4489-8bd0-44b0ef0f2262",
   "metadata": {},
   "outputs": [],
   "source": [
    "wd.min()"
   ]
  },
  {
   "cell_type": "code",
   "execution_count": null,
   "id": "61c2c890-794a-40c6-905f-f64a4f63da6f",
   "metadata": {},
   "outputs": [],
   "source": [
    "wd.max()"
   ]
  },
  {
   "cell_type": "code",
   "execution_count": null,
   "id": "fef208cb-0811-491c-a5c7-c7e3552eea2b",
   "metadata": {},
   "outputs": [],
   "source": [
    "wd_range  = wd.max() - wd.min()\n",
    "print(wd_range)"
   ]
  },
  {
   "cell_type": "code",
   "execution_count": null,
   "id": "531a9d65-4be8-4ddd-95e6-09157258772e",
   "metadata": {},
   "outputs": [],
   "source": [
    "wd[\"Hardness\"].min()"
   ]
  },
  {
   "cell_type": "code",
   "execution_count": null,
   "id": "a3239457-c6f7-44dd-b3d2-348a2a3bb73f",
   "metadata": {},
   "outputs": [],
   "source": [
    "wd.describe().T"
   ]
  },
  {
   "cell_type": "code",
   "execution_count": null,
   "id": "aca05fef-2c9f-40c6-bfa3-f77a1af21971",
   "metadata": {},
   "outputs": [],
   "source": [
    "wd[\"Solids\"].mean()"
   ]
  },
  {
   "cell_type": "code",
   "execution_count": null,
   "id": "0ad566e0-058f-42fe-a523-e90887fda8a8",
   "metadata": {},
   "outputs": [],
   "source": [
    "np.percentile(wd[\"Solids\"],25)"
   ]
  },
  {
   "cell_type": "code",
   "execution_count": null,
   "id": "6a5831b3-6706-481c-96a1-066480b21e5e",
   "metadata": {},
   "outputs": [],
   "source": [
    "plt.figure(figsize=(12, 8))\n",
    "sns.countplot(y=\"Potability\", data=wd,orient = \"h\", edgecolor=sns.color_palette(\"dark\"));"
   ]
  },
  {
   "cell_type": "code",
   "execution_count": null,
   "id": "9f230e9f-d6a5-47cf-a580-95e9047166cc",
   "metadata": {},
   "outputs": [],
   "source": [
    "plt.figure(figsize=(12, 8))\n",
    "wd[\"ph\"].hist(bins=30)\n",
    "plt.axvline(wd[\"ph\"].mean(), color ='r', label = \"mean\")\n",
    "plt.axvline(wd[\"ph\"].median(), color ='y', label = \"mean\")"
   ]
  },
  {
   "cell_type": "code",
   "execution_count": null,
   "id": "efe9d102-a776-4cbe-b43c-249e17f4e48d",
   "metadata": {},
   "outputs": [],
   "source": [
    "plt.figure(figsize=(12, 8))\n",
    "wd[\"Sulfate\"].hist(bins=30)\n",
    "plt.axvline(wd[\"Sulfate\"].mean(), color ='r', label = \"mean\")\n",
    "plt.axvline(wd[\"Sulfate\"].median(), color ='y', label = \"mean\")"
   ]
  },
  {
   "cell_type": "code",
   "execution_count": null,
   "id": "38bc4885-194a-42c2-a68c-fba0631211c5",
   "metadata": {},
   "outputs": [],
   "source": [
    "cols = ['ph', 'Hardness', 'Solids', 'Chloramines', 'Sulfate', 'Conductivity',\n",
    "       'Organic_carbon', 'Trihalomethanes', 'Turbidity']"
   ]
  },
  {
   "cell_type": "code",
   "execution_count": null,
   "id": "70db3aa2-c193-434b-bdf9-bc0f8d2dcbee",
   "metadata": {},
   "outputs": [],
   "source": [
    "def boxPlotter(dataset, columnName):\n",
    "    \"\"\"\n",
    "    Plots boxplots for column given as parameter.\n",
    "    \"\"\"\n",
    "    sns.catplot(x=\"Potability\", y=columnName, data=dataset, kind=\"box\");\n",
    "for column in tqdm_notebook(cols, desc = \"Your Charts are being ready\"):\n",
    "    boxPlotter(wd, column)"
   ]
  },
  {
   "cell_type": "code",
   "execution_count": null,
   "id": "b1d6f606-08ef-43cb-8f14-8534ce6a290a",
   "metadata": {},
   "outputs": [],
   "source": [
    "plt.figure(figsize=(20, 17))\n",
    "matrix = np.triu(wd.corr())\n",
    "sns.heatmap(wd.corr(), annot=True,linewidth=.8, mask=matrix, cmap=\"rocket\");"
   ]
  },
  {
   "cell_type": "code",
   "execution_count": null,
   "id": "6faf7d93-7c65-4122-b612-57e9481c2938",
   "metadata": {},
   "outputs": [],
   "source": [
    "sns.pairplot(wd, hue=\"Potability\", palette=\"husl\")"
   ]
  },
  {
   "cell_type": "code",
   "execution_count": null,
   "id": "cc6646bc-40bb-458a-aaa8-7efdd89d7338",
   "metadata": {},
   "outputs": [],
   "source": [
    "def pieChartPlotter(dataset, columnName):\n",
    "    \"\"\"\n",
    "    Creates pie chart of the column given as parameter in the dataset\n",
    "    \"\"\"\n",
    "    values = dataset[columnName].value_counts()\n",
    "    print(values)\n",
    "    labels = dataset[columnName].unique()\n",
    "    print(labels)\n",
    "    \n",
    "    pie, ax = plt.subplots(figsize=[10, 6])\n",
    "\n",
    "    patches, texts, autotexts = ax.pie(values, labels=labels, autopct='%1.2f%%', shadow=True, pctdistance=.5,explode=[0.06]*dataset[columnName].unique()\n",
    "                                       )\n",
    "\n",
    "    plt.legend(patches, labels, loc=\"best\")\n",
    "    plt.title(columnName, color='white', fontsize=14)\n",
    "    plt.setp(texts, color='white', fontsize=20)\n",
    "    plt.setp(autotexts, size=15, color='black')\n",
    "    autotexts[1].set_color('black')\n",
    "\n",
    "   \n",
    "    plt.show()\n",
    "pieChartPlotter(wd, 'Potability') "
   ]
  },
  {
   "cell_type": "code",
   "execution_count": null,
   "id": "8400f6d8-7ea7-4fe6-8064-a833439cbd94",
   "metadata": {},
   "outputs": [],
   "source": [
    "wd.groupby(\"Potability\").count()"
   ]
  },
  {
   "cell_type": "code",
   "execution_count": null,
   "id": "f343372a-97e9-4a56-87cb-2351e6aec498",
   "metadata": {},
   "outputs": [],
   "source": [
    "wd.head()"
   ]
  },
  {
   "cell_type": "code",
   "execution_count": null,
   "id": "a388efbe-4f3e-40cb-a610-26d9cbb530f7",
   "metadata": {},
   "outputs": [],
   "source": [
    "lower_outlier = wd[\"Sulfate\"].quantile(.25) - 1.5*(stats.iqr(wd[\"Sulfate\"], rng=(25, 75),nan_policy='omit'))\n",
    "lower_outlier"
   ]
  },
  {
   "cell_type": "code",
   "execution_count": null,
   "id": "7ffb6a62-ba17-4359-80ad-bdf963021a48",
   "metadata": {},
   "outputs": [],
   "source": [
    "sns.countplot(wd[\"Potability\"])\n",
    "plt.show()"
   ]
  },
  {
   "cell_type": "code",
   "execution_count": null,
   "id": "8d82b6a1-b8cf-4a06-a12a-631bc21c7ece",
   "metadata": {},
   "outputs": [],
   "source": [
    "plt.figure(figsize = (12,8))\n",
    "wd[\"Sulfate\"].plot(kind = \"box\")"
   ]
  },
  {
   "cell_type": "code",
   "execution_count": null,
   "id": "b3f2cb8e-8ea0-4937-acf5-faa21e80948d",
   "metadata": {},
   "outputs": [],
   "source": [
    "wd.isnull().sum()"
   ]
  },
  {
   "cell_type": "code",
   "execution_count": null,
   "id": "691f2fa2-b9c4-47ce-94af-5e4f56844da9",
   "metadata": {},
   "outputs": [],
   "source": [
    "#ph values are evenly distributed so we can use mean\n",
    "wd['ph'].fillna(wd['ph'].mean(),inplace=True)\n",
    "#sulphate values are slightly on the right side and it has outliers which may affect mean hence we will use median here\n",
    "wd['Sulfate'].fillna(wd['Sulfate'].median(),inplace=True)\n",
    "#Trihalomethanes values are evenly distributed so we will use mean\n",
    "wd['Trihalomethanes'].fillna(wd['Trihalomethanes'].mean(),inplace=True)"
   ]
  },
  {
   "cell_type": "code",
   "execution_count": null,
   "id": "399ce104-4c97-42d5-9154-ff0fca39c04d",
   "metadata": {},
   "outputs": [],
   "source": [
    "wd.isnull().sum()"
   ]
  },
  {
   "cell_type": "code",
   "execution_count": null,
   "id": "ee391e34-1150-487b-9e44-45db72712c22",
   "metadata": {},
   "outputs": [],
   "source": [
    "colors = ['#ff0000','#fff000','#18fff9','#8f139f']\n",
    "fig, axes = plt.subplots(3,3 ,figsize=(12,12))\n",
    "column = wd.columns\n",
    "fig.suptitle('Boxplots of each variable')\n",
    "sns.boxplot(ax=axes[0,0],x=column[0],data=wd,color=colors[0])\n",
    "sns.boxplot(ax=axes[0,1],x=column[1],data=wd,color=colors[1])\n",
    "sns.boxplot(ax=axes[0,2],x=column[2],data=wd,color=colors[2])\n",
    "sns.boxplot(ax=axes[1,0],x=column[3],data=wd,color=colors[3])\n",
    "sns.boxplot(ax=axes[1,1],x=column[4],data=wd,color=colors[0])\n",
    "sns.boxplot(ax=axes[1,2],x=column[5],data=wd,color=colors[1])\n",
    "sns.boxplot(ax=axes[2,0],x=column[6],data=wd,color=colors[2])\n",
    "sns.boxplot(ax=axes[2,1],x=column[7],data=wd,color=colors[3])\n",
    "sns.boxplot(ax=axes[2,2],x=column[8],data=wd,color=colors[0])\n",
    "plt.show()"
   ]
  },
  {
   "cell_type": "code",
   "execution_count": null,
   "id": "f8b04fa5-5100-44c4-80d8-9f139422d956",
   "metadata": {},
   "outputs": [],
   "source": [
    "wd[\"ph\"].plot(kind = \"kde\")"
   ]
  },
  {
   "cell_type": "code",
   "execution_count": null,
   "id": "1fd60588-3581-4cb5-986a-1989e5a669a6",
   "metadata": {},
   "outputs": [],
   "source": [
    "## KDE Kernel Density Plot - Probability Distriubtion \n",
    "colors = ['#ff0000','#fff000','#18fff9','#8f139f']\n",
    "fig, axes = plt.subplots(3,3 ,figsize=(12,12))\n",
    "column = wd.columns\n",
    "fig.suptitle('kdeplots of each variable')\n",
    "sns.kdeplot(ax=axes[0,0],x=column[0],data=wd,color=colors[0])\n",
    "sns.kdeplot(ax=axes[0,1],x=column[1],data=wd,color=colors[1])\n",
    "sns.kdeplot(ax=axes[0,2],x=column[2],data=wd,color=colors[2])\n",
    "sns.kdeplot(ax=axes[1,0],x=column[3],data=wd,color=colors[3])\n",
    "sns.kdeplot(ax=axes[1,1],x=column[4],data=wd,color=colors[0])\n",
    "sns.kdeplot(ax=axes[1,2],x=column[5],data=wd,color=colors[1])\n",
    "sns.kdeplot(ax=axes[2,0],x=column[6],data=wd,color=colors[2])\n",
    "sns.kdeplot(ax=axes[2,1],x=column[7],data=wd,color=colors[3])\n",
    "sns.kdeplot(ax=axes[2,2],x=column[8],data=wd,color=colors[0])\n",
    "plt.show()"
   ]
  },
  {
   "cell_type": "code",
   "execution_count": null,
   "id": "409e038d-fef1-47bc-ae8c-3e6204d801c7",
   "metadata": {},
   "outputs": [],
   "source": [
    "sns.scatterplot(y= column[0-8] , x = wd[\"ph\"], hue = wd[\"Potability\"] ,data = wd)"
   ]
  },
  {
   "cell_type": "code",
   "execution_count": null,
   "id": "e81cab9f-ff07-402c-bd64-127ad8113056",
   "metadata": {},
   "outputs": [],
   "source": [
    "wd['Potability'].value_counts()"
   ]
  },
  {
   "cell_type": "code",
   "execution_count": null,
   "id": "1e4154b1-b4a3-466e-b259-2b0c4deb3a3e",
   "metadata": {},
   "outputs": [],
   "source": [
    "wd.skew()"
   ]
  },
  {
   "cell_type": "code",
   "execution_count": null,
   "id": "dace27ae-092e-4061-a0ac-b4fbf6be0b4f",
   "metadata": {},
   "outputs": [],
   "source": [
    "wd.skew(axis=0).to_frame(name='Skewed Values')"
   ]
  },
  {
   "cell_type": "code",
   "execution_count": null,
   "id": "68af2dbd-2b1b-4375-b875-5813cdcd2235",
   "metadata": {},
   "outputs": [],
   "source": [
    "wd."
   ]
  },
  {
   "cell_type": "code",
   "execution_count": null,
   "id": "94214d74-b537-4c5d-bf65-d0195369de86",
   "metadata": {},
   "outputs": [],
   "source": [
    "plt.figure(figsize=(8,5))\n",
    "\n",
    "sns.countplot(x='Potability',data=wd,saturation=0.95)"
   ]
  },
  {
   "cell_type": "code",
   "execution_count": null,
   "id": "ad687857-70fa-4687-8c92-b667ecd84574",
   "metadata": {},
   "outputs": [],
   "source": [
    "wd['Potability'].value_counts()"
   ]
  },
  {
   "cell_type": "code",
   "execution_count": null,
   "id": "a58811dc-512d-4a5a-9654-ce03bfc64378",
   "metadata": {},
   "outputs": [],
   "source": [
    "print(\"Potable water %\",(wd['Potability'].value_counts()[1]/len(wd)*100))\n",
    "print(\"Non-Potable water %\",(wd['Potability'].value_counts()[0]/len(wd)*100))"
   ]
  },
  {
   "cell_type": "code",
   "execution_count": null,
   "id": "41f03c5f-2a5c-401e-8748-8490212a1dae",
   "metadata": {},
   "outputs": [],
   "source": [
    "wd.iloc[:,:-1].mean().to_frame().T"
   ]
  },
  {
   "cell_type": "code",
   "execution_count": null,
   "id": "d216463e-6bef-441a-b6f2-dffd933277c8",
   "metadata": {},
   "outputs": [],
   "source": [
    "df=wd"
   ]
  },
  {
   "cell_type": "code",
   "execution_count": null,
   "id": "90b6d09d-64b7-4a9f-b6c5-c86b88922d13",
   "metadata": {},
   "outputs": [],
   "source": [
    "df.kurtosis()"
   ]
  },
  {
   "cell_type": "code",
   "execution_count": null,
   "id": "0d9d0d4f-d17e-4639-ae6e-ced6980560e5",
   "metadata": {},
   "outputs": [],
   "source": [
    "plt.figure(figsize=(13,12))\n",
    "sns.distplot(df['Solids'][df.Potability==1],hist=True, rug=True,color='Maroon',hist_kws={'alpha':0.50})\n",
    "sns.distplot(df['Solids'][df.Potability==0],hist=True, rug=True,color='Blue',hist_kws={'alpha':0.60})\n",
    "plt.legend(['Potability','Non Potability'])"
   ]
  },
  {
   "cell_type": "code",
   "execution_count": null,
   "id": "790aeefa-9f26-42b3-aaca-8de1f3f03421",
   "metadata": {},
   "outputs": [],
   "source": [
    "plt.figure(figsize=(13,12))\n",
    "sns.distplot(df['ph'][df.Potability==1],hist=True, rug=True,color='Maroon',hist_kws={'alpha':0.50})\n",
    "sns.distplot(df['ph'][df.Potability==0],hist=True, rug=True,color='Blue',hist_kws={'alpha':0.60})\n",
    "plt.legend(['Potability','Non Potability'])"
   ]
  },
  {
   "cell_type": "markdown",
   "id": "6095af6b-5c83-4e46-9e15-0d3b1998fb81",
   "metadata": {},
   "source": [
    "- Both the Potable and Non Potable Water is within the range of WHO standard i.e 6.5 and 8.5\n",
    "- Solids contained in both potable and non potable water is high but containment is less in Potable   \n",
    "   water.\n",
    "- Sulfate containment in Non Potable water is too high compare to Potable water but still both water is drinkable as sulfate containment is less than 1000mg/L\n",
    "- Trihalomethanes containment is high in non potable water but less than permissible limit but still this non potable water is not recommended to drink.\n",
    "- Conductivity of the non potable water is too high above permissible limit. This because of containments of solid,organic matter,etc.\n",
    "- From The Mean table We can also see that most water is below ph 8.5 but conductivitiy is high that makes it unhealthy. As the conductivity, presence of high Trihalomethanes and other levels are quite high than Potable water, This makes it unhealty to drink.Therefore almost 60% of water is Non-Potable Water."
   ]
  },
  {
   "cell_type": "code",
   "execution_count": null,
   "id": "99bb0f99-d7e6-4657-98de-ab8a94be95ab",
   "metadata": {},
   "outputs": [],
   "source": [
    "plt.figure(figsize=(18,15))\n",
    "corr=df.iloc[:,:-1].corr()\n",
    "corr_feat = corr.index\n",
    "sns.heatmap(df[corr_feat].corr(),cmap='cividis',annot=True,linewidths=2)"
   ]
  },
  {
   "cell_type": "code",
   "execution_count": null,
   "id": "06ac79ca-57f7-4259-ac49-3c13228e267b",
   "metadata": {},
   "outputs": [],
   "source": [
    "bin=np.linspace(min(df['ph']),max(df['ph']),15)\n",
    "groups=[1,2,3,4,5,6,7,8,9,10,11,12,13,14]\n",
    "df['ph-binned']=pd.cut(df['ph'],bins=bin,labels=groups)"
   ]
  },
  {
   "cell_type": "code",
   "execution_count": null,
   "id": "8d16567d-7831-4eb1-9143-926b22f9cc9b",
   "metadata": {},
   "outputs": [],
   "source": [
    "plt.figure(figsize=(10,8))\n",
    "sns.countplot(df['ph-binned'],hue=df['Potability'],palette='viridis')"
   ]
  },
  {
   "cell_type": "code",
   "execution_count": null,
   "id": "456874cd-ead4-4b4b-88a4-aa53211cf409",
   "metadata": {},
   "outputs": [],
   "source": [
    "from scipy import stats\n",
    "import pylab\n",
    "def normality(data,feature):\n",
    "    plt.figure(figsize=(10,5))\n",
    "    plt.subplot(1,2,1)\n",
    "    sns.kdeplot(data[feature])\n",
    "    plt.subplot(1,2,2)\n",
    "    stats.probplot(data[feature],plot=pylab)\n",
    "    plt.show()"
   ]
  },
  {
   "cell_type": "code",
   "execution_count": null,
   "id": "10d5f042-33cf-4422-9a61-1929f304c880",
   "metadata": {},
   "outputs": [],
   "source": [
    "normality(df,'Solids')"
   ]
  },
  {
   "cell_type": "code",
   "execution_count": null,
   "id": "d91382d5-214f-42a5-b21c-3c7e930f396c",
   "metadata": {},
   "outputs": [],
   "source": [
    "df['Solids'],param=stats.boxcox(df['Solids'])"
   ]
  },
  {
   "cell_type": "code",
   "execution_count": null,
   "id": "16b0c7de-151c-4b22-a770-1d44c1712a6d",
   "metadata": {},
   "outputs": [],
   "source": [
    "normality(df,'Solids')"
   ]
  },
  {
   "cell_type": "code",
   "execution_count": null,
   "id": "389c530b-ebdc-4deb-899c-1f0babd1c700",
   "metadata": {},
   "outputs": [],
   "source": [
    "normality(df,'Conductivity')"
   ]
  },
  {
   "cell_type": "code",
   "execution_count": null,
   "id": "99b772e5-e3bc-4358-a2b1-0450af5fb204",
   "metadata": {},
   "outputs": [],
   "source": [
    "df['Conductivity'],param=stats.boxcox(df['Conductivity'])"
   ]
  },
  {
   "cell_type": "code",
   "execution_count": null,
   "id": "0fd4d9ff-092b-4dd2-a914-81032298ff81",
   "metadata": {},
   "outputs": [],
   "source": [
    "normality(df,'Conductivity')"
   ]
  },
  {
   "cell_type": "code",
   "execution_count": null,
   "id": "684a34a2-c85f-4a13-b827-f442528deb50",
   "metadata": {},
   "outputs": [],
   "source": [
    "df.skew()"
   ]
  },
  {
   "cell_type": "code",
   "execution_count": null,
   "id": "d98d802c-66d9-4a65-b1ac-bd7049cf67bd",
   "metadata": {},
   "outputs": [],
   "source": [
    "X = df.loc[:,wd.columns != \"Potability\"]\n",
    "X.head()"
   ]
  },
  {
   "cell_type": "code",
   "execution_count": null,
   "id": "fd346479-bfa9-4cce-8de6-0611e0b34834",
   "metadata": {},
   "outputs": [],
   "source": [
    "y = wd['Potability']"
   ]
  },
  {
   "cell_type": "code",
   "execution_count": null,
   "id": "d1cc9920-e329-4adb-bb7e-1b7d08a1514f",
   "metadata": {},
   "outputs": [],
   "source": [
    "from sklearn.ensemble import ExtraTreesClassifier\n",
    "model = ExtraTreesClassifier()\n",
    "model.fit(X,y)\n",
    "print(model.feature_importances_es)\n"
   ]
  },
  {
   "cell_type": "code",
   "execution_count": null,
   "id": "b348face-d80b-43e4-aeda-f3e6f6d558e9",
   "metadata": {},
   "outputs": [],
   "source": [
    "\n",
    "feat_importances = pd.Series(model.feature_importances_, index=X.columns)\n",
    "feat_importances.plot(kind='barh')\n",
    "plt.show()"
   ]
  },
  {
   "cell_type": "code",
   "execution_count": null,
   "id": "8d0a7274-ae85-42d6-a108-139e2ca1fa0b",
   "metadata": {},
   "outputs": [],
   "source": [
    "x_train,x_test,y_train,y_test=train_test_split(X,y,test_size=0.20,random_state=45)"
   ]
  },
  {
   "cell_type": "code",
   "execution_count": null,
   "id": "e23e9de4-168b-4fbc-8b29-08791db8d3ea",
   "metadata": {},
   "outputs": [],
   "source": [
    "print('Correlation of Potability with feature variables:')\n",
    "features = list(df.columns.drop('Potability'))\n",
    "\n",
    "Corr = list()\n",
    "for cols in features:\n",
    "    Corr.append(df[cols].corr(df['Potability']))\n",
    "\n",
    "corrDf = pd.DataFrame({'Features' : features, 'Corr' : Corr})\n",
    "corrDf['Corr'] = corrDf['Corr'].abs()\n",
    "corrDf.sort_values(by='Corr', ascending = True)"
   ]
  },
  {
   "cell_type": "code",
   "execution_count": null,
   "id": "5ab98db9-fe89-46eb-b7a7-c7ae88f01c52",
   "metadata": {},
   "outputs": [],
   "source": [
    "waterData = wd\n"
   ]
  },
  {
   "cell_type": "code",
   "execution_count": null,
   "id": "c0d9859f-3838-437d-b4c8-7b2c5d98e6b4",
   "metadata": {},
   "outputs": [],
   "source": [
    "#ph values are evenly distributed so we can use mean\n",
    "wd['ph'].fillna(wd['ph'].mean(),inplace=True)\n",
    "#sulphate values are slightly on the right side and it has outliers which may affect mean hence we will use median here\n",
    "wd['Sulfate'].fillna(wd['Sulfate'].median(),inplace=True)\n",
    "#Trihalomethanes values are evenly distributed so we will use mean\n",
    "wd['Trihalomethanes'].fillna(wd['Trihalomethanes'].mean(),inplace=True)"
   ]
  },
  {
   "cell_type": "code",
   "execution_count": null,
   "id": "74a9ce5c-9897-470b-9054-8d2c4be4d852",
   "metadata": {},
   "outputs": [],
   "source": [
    "X = waterData.drop('Potability', axis = 1).copy()\n",
    "y = waterData['Potability'].copy()\n",
    "print(X)"
   ]
  },
  {
   "cell_type": "code",
   "execution_count": null,
   "id": "9b2e8de0-c6b4-4557-a091-f04da886497e",
   "metadata": {},
   "outputs": [],
   "source": [
    "\n",
    "############################# Train-Test split ############################\n",
    "X_train, X_test, y_train, y_test = train_test_split(X,y,test_size=0.25)\n",
    "\n"
   ]
  },
  {
   "cell_type": "code",
   "execution_count": null,
   "id": "4cc706a4-5e2c-418a-bbbd-3e39fd0c6067",
   "metadata": {},
   "outputs": [],
   "source": [
    "########################## Synthetic OverSampling ###########################\n",
    "print('Balancing the data by SMOTE - Oversampling of Minority level\\n')\n",
    "smt = SMOTE()\n",
    "counter = Counter(y_train)\n",
    "print('Before SMOTE', counter)\n",
    "X_train, y_train = smt.fit_resample(X_train, y_train)\n",
    "counter = Counter(y_train)\n",
    "print('\\nAfter SMOTE', counter)\n",
    "\n",
    "################################# Scaling #################################\n",
    "ssc = StandardScaler()\n",
    "\n",
    "X_train = ssc.fit_transform(X_train)\n",
    "X_test = ssc.transform(X_test)\n",
    "\n",
    "modelAccuracy = list()"
   ]
  },
  {
   "cell_type": "code",
   "execution_count": null,
   "id": "20b1af0d-c4a1-4548-ac85-b9fc7b2ae520",
   "metadata": {},
   "outputs": [],
   "source": [
    "model = [LogisticRegression(), DecisionTreeClassifier(), GaussianNB(), RandomForestClassifier(), ExtraTreesClassifier(),\n",
    "        svm.LinearSVC(), CatBoostClassifier()]\n",
    "trainAccuracy = list()\n",
    "testAccuracy = list()\n",
    "kfold = KFold(n_splits=10, random_state=7, shuffle=True)\n",
    "\n",
    "for mdl in model:\n",
    "    trainResult = cross_val_score(mdl, X_train, y_train, scoring='accuracy', cv=kfold)\n",
    "    trainAccuracy.append(trainResult.mean())\n",
    "    mdl.fit(X_train, y_train)\n",
    "    y_pred = mdl.predict(X_test)\n",
    "    testResult = metrics.accuracy_score(y_test, y_pred)\n",
    "    testAccuracy.append(testResult)"
   ]
  },
  {
   "cell_type": "code",
   "execution_count": null,
   "id": "424119b2-07eb-4d91-b805-464f07915068",
   "metadata": {},
   "outputs": [],
   "source": [
    "print('The comparision\\n')\n",
    "modelScore = pd.DataFrame({'Model' : model, 'Train_Accuracy' : trainAccuracy, 'Test_Accuracy' : testAccuracy})\n",
    "modelScore"
   ]
  },
  {
   "cell_type": "code",
   "execution_count": null,
   "id": "e00b9e9f-bee0-4fc5-9177-a33545c5ad0e",
   "metadata": {},
   "outputs": [],
   "source": [
    "print('Random Forest Classifier\\n')\n",
    "Rfc = RandomForestClassifier()\n",
    "Rfc.fit(X_train, y_train)\n",
    "\n",
    "y_Rfc = Rfc.predict(X_test)\n",
    "print(metrics.classification_report(y_test, y_Rfc))\n",
    "print(modelAccuracy.append(metrics.accuracy_score(y_test, y_Rfc)))\n",
    "\n",
    "sns.heatmap(confusion_matrix(y_test, y_Rfc), annot=True, fmt='d')\n",
    "plt.show()"
   ]
  },
  {
   "cell_type": "code",
   "execution_count": null,
   "id": "e9dc1072-26f4-49c0-8ba3-e79c3a739f1a",
   "metadata": {},
   "outputs": [],
   "source": [
    "print('CatBoostClassifier\\n')\n",
    "cat = CatBoostClassifier(verbose=False)\n",
    "cat.fit(X_train, y_train)\n",
    "\n",
    "y_cat = cat.predict(X_test)\n",
    "print(metrics.classification_report(y_test, y_cat))\n",
    "print(modelAccuracy.append(metrics.accuracy_score(y_test, y_cat)))\n",
    "\n",
    "sns.heatmap(confusion_matrix(y_test, y_cat), annot=True, fmt='d')\n",
    "plt.show()"
   ]
  },
  {
   "cell_type": "code",
   "execution_count": null,
   "id": "6f0caf89-2e78-4c58-b5ff-99e784ccceeb",
   "metadata": {},
   "outputs": [],
   "source": []
  }
 ],
 "metadata": {
  "kernelspec": {
   "display_name": "Python 3",
   "language": "python",
   "name": "python3"
  },
  "language_info": {
   "codemirror_mode": {
    "name": "ipython",
    "version": 3
   },
   "file_extension": ".py",
   "mimetype": "text/x-python",
   "name": "python",
   "nbconvert_exporter": "python",
   "pygments_lexer": "ipython3",
   "version": "3.8.8"
  }
 },
 "nbformat": 4,
 "nbformat_minor": 5
}
